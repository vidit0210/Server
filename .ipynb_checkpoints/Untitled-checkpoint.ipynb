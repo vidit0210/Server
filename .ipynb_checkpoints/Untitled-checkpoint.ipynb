{
 "cells": [
  {
   "cell_type": "code",
   "execution_count": 43,
   "metadata": {
    "collapsed": true
   },
   "outputs": [],
   "source": [
    "import pandas as pd\n",
    "import tensorflow as tf\n",
    "import matplotlib.pyplot as plt\n",
    "import numpy as np\n",
    "from sklearn import datasets\n",
    "from sklearn import metrics\n",
    "from sklearn import model_selection\n",
    "from sklearn import preprocessing"
   ]
  },
  {
   "cell_type": "code",
   "execution_count": 44,
   "metadata": {
    "collapsed": true
   },
   "outputs": [],
   "source": [
    "df =pd.read_csv(\"train_data.csv\")"
   ]
  },
  {
   "cell_type": "code",
   "execution_count": 57,
   "metadata": {},
   "outputs": [],
   "source": [
    "target = df[\"target\"]\n",
    "feature=df.drop(['target','connection_id'],axis=1)"
   ]
  },
  {
   "cell_type": "code",
   "execution_count": 69,
   "metadata": {},
   "outputs": [
    {
     "data": {
      "text/plain": [
       "41"
      ]
     },
     "execution_count": 69,
     "metadata": {},
     "output_type": "execute_result"
    }
   ],
   "source": [
    "len(feature.columns)"
   ]
  },
  {
   "cell_type": "code",
   "execution_count": 63,
   "metadata": {},
   "outputs": [],
   "source": [
    "logs_path=\"Server_attack\"\n"
   ]
  },
  {
   "cell_type": "code",
   "execution_count": 64,
   "metadata": {},
   "outputs": [],
   "source": [
    "#Hyperparameters\n",
    "batch_size=100\n",
    "learning_rate=0.5\n",
    "training_epochs=10"
   ]
  },
  {
   "cell_type": "code",
   "execution_count": 70,
   "metadata": {
    "collapsed": true
   },
   "outputs": [],
   "source": [
    "X=tf.placeholder(tf.float32,[None,41])\n",
    "Y_=tf.placeholder(tf.float32,[None,3])\n",
    "lr=tf.placeholder(tf.float32)"
   ]
  },
  {
   "cell_type": "code",
   "execution_count": 72,
   "metadata": {
    "collapsed": true
   },
   "outputs": [],
   "source": [
    "#5Layer Neural Network\n",
    "L=200\n",
    "M=100\n",
    "N=60\n",
    "O=30"
   ]
  },
  {
   "cell_type": "code",
   "execution_count": 77,
   "metadata": {},
   "outputs": [],
   "source": [
    "#Weights and Biases\n",
    "W1=tf.Variable(tf.truncated_normal([41,L],stddev=0.1))\n",
    "B1=tf.Variable(tf.ones([L]))\n",
    "W2=tf.Variable(tf.truncated_normal([L,M],stddev=0.1))\n",
    "B2=tf.Variable(tf.ones([M]))\n",
    "W3=tf.Variable(tf.truncated_normal([M,N],stddev=0.1))\n",
    "B3=tf.Variable(tf.ones([N]))\n",
    "W4=tf.Variable(tf.truncated_normal([N,O],stddev=0.1))\n",
    "B4=tf.Variable(tf.ones([O]))\n",
    "W5=tf.Variable(tf.truncated_normal([O,3],stddev=0.1))\n",
    "B5=tf.Variable(tf.ones([3]))               \n",
    "               \n"
   ]
  },
  {
   "cell_type": "code",
   "execution_count": 79,
   "metadata": {
    "collapsed": true
   },
   "outputs": [],
   "source": [
    "Y1=tf.nn.relu(tf.matmul(X,W1)+B1)\n",
    "Y2=tf.nn.relu(tf.matmul(Y1,W2)+B2)\n",
    "Y3=tf.nn.relu(tf.matmul(Y2,W3)+B3)\n",
    "Y4=tf.nn.relu(tf.matmul(Y3,W4)+B4)\n",
    "Ylogits=tf.nn.relu(tf.matmul(Y4,W5)+B5)\n",
    "Y=tf.nn.softmax(Ylogits)"
   ]
  },
  {
   "cell_type": "raw",
   "metadata": {},
   "source": []
  }
 ],
 "metadata": {
  "kernelspec": {
   "display_name": "Python 3",
   "language": "python",
   "name": "python3"
  },
  "language_info": {
   "codemirror_mode": {
    "name": "ipython",
    "version": 3
   },
   "file_extension": ".py",
   "mimetype": "text/x-python",
   "name": "python",
   "nbconvert_exporter": "python",
   "pygments_lexer": "ipython3",
   "version": "3.6.1"
  }
 },
 "nbformat": 4,
 "nbformat_minor": 2
}
